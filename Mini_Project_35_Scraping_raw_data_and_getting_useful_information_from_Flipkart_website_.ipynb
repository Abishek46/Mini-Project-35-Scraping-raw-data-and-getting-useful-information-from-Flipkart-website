{
  "nbformat": 4,
  "nbformat_minor": 0,
  "metadata": {
    "colab": {
      "provenance": [],
      "authorship_tag": "ABX9TyO0c2EwONgdHTakD3hIJTfd",
      "include_colab_link": true
    },
    "kernelspec": {
      "name": "python3",
      "display_name": "Python 3"
    },
    "language_info": {
      "name": "python"
    }
  },
  "cells": [
    {
      "cell_type": "markdown",
      "metadata": {
        "id": "view-in-github",
        "colab_type": "text"
      },
      "source": [
        "<a href=\"https://colab.research.google.com/github/Abishek46/Mini-Project-35-Scraping-raw-data-and-getting-useful-information-from-Flipkart-website/blob/main/Mini_Project_35_Scraping_raw_data_and_getting_useful_information_from_Flipkart_website_.ipynb\" target=\"_parent\"><img src=\"https://colab.research.google.com/assets/colab-badge.svg\" alt=\"Open In Colab\"/></a>"
      ]
    },
    {
      "cell_type": "code",
      "execution_count": 54,
      "metadata": {
        "id": "qHcHBW8phEOC"
      },
      "outputs": [],
      "source": [
        "url = 'https://www.flipkart.com/search?q=mobile+phone+5g'"
      ]
    },
    {
      "cell_type": "code",
      "source": [
        "\n",
        "!pip install requests beautifulsoup4\n",
        "import requests\n",
        "from bs4 import BeautifulSoup"
      ],
      "metadata": {
        "colab": {
          "base_uri": "https://localhost:8080/"
        },
        "id": "JRtoHVTIhmxn",
        "outputId": "6e883af9-f736-4beb-de7b-6b93c32ab177"
      },
      "execution_count": 55,
      "outputs": [
        {
          "output_type": "stream",
          "name": "stdout",
          "text": [
            "Requirement already satisfied: requests in /usr/local/lib/python3.10/dist-packages (2.27.1)\n",
            "Requirement already satisfied: beautifulsoup4 in /usr/local/lib/python3.10/dist-packages (4.11.2)\n",
            "Requirement already satisfied: urllib3<1.27,>=1.21.1 in /usr/local/lib/python3.10/dist-packages (from requests) (1.26.16)\n",
            "Requirement already satisfied: certifi>=2017.4.17 in /usr/local/lib/python3.10/dist-packages (from requests) (2023.5.7)\n",
            "Requirement already satisfied: charset-normalizer~=2.0.0 in /usr/local/lib/python3.10/dist-packages (from requests) (2.0.12)\n",
            "Requirement already satisfied: idna<4,>=2.5 in /usr/local/lib/python3.10/dist-packages (from requests) (3.4)\n",
            "Requirement already satisfied: soupsieve>1.2 in /usr/local/lib/python3.10/dist-packages (from beautifulsoup4) (2.4.1)\n"
          ]
        }
      ]
    },
    {
      "cell_type": "code",
      "source": [
        "# Make a request to the website\n",
        "response = requests.get(url)\n",
        "\n",
        "# Create a BeautifulSoup object\n",
        "soup = BeautifulSoup(response.text, 'html.parser')"
      ],
      "metadata": {
        "id": "3gaqPHjahvCH"
      },
      "execution_count": 56,
      "outputs": []
    },
    {
      "cell_type": "code",
      "source": [
        "text = soup.get_text()\n",
        "text\n",
        ""
      ],
      "metadata": {
        "colab": {
          "base_uri": "https://localhost:8080/",
          "height": 174
        },
        "id": "vCraCE35hyun",
        "outputId": "fdc1fd2c-8307-4e44-9d6a-5713cf9b56b4"
      },
      "execution_count": 58,
      "outputs": [
        {
          "output_type": "execute_result",
          "data": {
            "text/plain": [
              "' Mobile Phone 5g- Buy Products Online at Best Price in India - All Categories | Flipkart.com     Explore PlusLoginBecome a Seller More CartFiltersCATEGORIESMobiles & AccessoriesMobilesPrice......Min₹10000₹15000₹20000₹30000to₹10000₹15000₹20000₹30000₹30000+BrandSAMSUNGAPPLErealmePOCOInfinixOPPO146 MORE?Customer Ratings4★ & above3★ & aboveGST Invoice AvailableRAM4 GB3 GB2 GB1GB and Below8 GB and Above6 GBInternal StorageBattery CapacityScreen SizePrimary CameraSecondary CameraProcessor BrandSpecialityResolution TypeOperating SystemNetwork TypeSim TypeOffersBuy More, Save MoreNo Cost EMISpecial PriceFeaturesTypeNumber of CoresAvailabilityDiscount50% or more40% or more30% or more20% or more10% or moreOperating System Version NameClock SpeedNeed help?Help me decideHomeMobiles & AccessoriesMobilesShowing 1 – 24 of 4,962 results for \"mobile phone 5g\"Sort ByRelevancePopularityPrice -- Low to HighPrice -- High to LowNewest FirstAdd to Comparevivo T2x 5G (Glimmer Black, 128 GB)4.319,932 Ratings\\xa0&\\xa01,166 Reviews8 GB RAM | 128 GB ROM16.71 cm (6.58 inch) Full HD+ Display50MP + 2MP | 8MP Front Camera5000 mAh BatteryDimensity 6020 Processor1 Year of Device & 6 Months for Inbox Accessories₹15,999₹20,99923% offFree delivery by TodayUpto ₹15,450 Off on ExchangeBank OfferAdd to Comparevivo T2x 5G (Aurora Gold, 128 GB)4.480,632 Ratings\\xa0&\\xa04,517 Reviews6 GB RAM | 128 GB ROM16.71 cm (6.58 inch) Full HD+ Display50MP + 2MP | 8MP Front Camera5000 mAh BatteryDimensity 6020 Processor1 Year of Device & 6 Months for Inbox Accessories₹13,999₹18,99926% offFree delivery by TodayUpto ₹13,300 Off on ExchangeBank OfferAdd to CompareSAMSUNG Galaxy F23 5G (Forest Green, 128 GB)4.32,01,686 Ratings\\xa0&\\xa015,471 Reviews6 GB RAM | 128 GB ROM | Expandable Upto 1 TB16.76 cm (6.6 inch) Full HD+ Display50MP + 8MP + 2MP | 8MP Front Camera5000 mAh Lithium Ion BatteryQualcomm Snapdragon 750G Processor1 Year Warranty Provided by the Manufacturer from Date of Purchase₹15,499₹23,99935% offFree delivery by TodayUpto ₹14,950 Off on ExchangeNo Cost EMI from ₹2,584/monthAdd to CompareSAMSUNG Galaxy F23 5G (Aqua Blue, 128 GB)4.32,01,686 Ratings\\xa0&\\xa015,471 Reviews6 GB RAM | 128 GB ROM | Expandable Upto 1 TB16.76 cm (6.6 inch) Full HD+ Display50MP + 8MP + 2MP | 8MP Front Camera5000 mAh Lithium Ion BatteryQualcomm Snapdragon 750G Processor1 Year Warranty Provided by the Manufacturer from Date of Purchase₹15,499₹23,99935% offFree delivery by TodayUpto ₹14,950 Off on ExchangeNo Cost EMI from ₹2,584/monthAdd to ComparePOCO M4 5G (Power Black, 64 GB)4.287,539 Ratings\\xa0&\\xa06,082 Reviews4 GB RAM | 64 GB ROM | Expandable Upto 512 GB16.71 cm (6.58 inch) Full HD+ Display50MP + 2MP | 8MP Front Camera5000 mAh Lithium Ion Polymer BatteryMediatek Dimensity 700 Processor1 Year Warranty for Handset and 6 Months for Accessories₹10,999₹15,99931% offFree delivery by TodayUpto ₹10,450 Off on ExchangeBank OfferAdd to ComparePOCO M4 5G (Power Black, 128 GB)4.244,319 Ratings\\xa0&\\xa03,187 Reviews6 GB RAM | 128 GB ROM | Expandable Upto 512 GB16.71 cm (6.58 inch) Full HD+ Display50MP + 2MP | 8MP Front Camera5000 mAh Lithium Ion Polymer BatteryMediatek Dimensity 700 Processor1 Year Warranty for Handset and 6 Months for Accessories₹12,999₹18,99931% offFree delivery by TodayUpto ₹12,400 Off on ExchangeBank OfferAdd to ComparePOCO M4 5G (Cool Blue, 128 GB)4.244,319 Ratings\\xa0&\\xa03,187 Reviews6 GB RAM | 128 GB ROM | Expandable Upto 512 GB16.71 cm (6.58 inch) Full HD+ Display50MP + 2MP | 8MP Front Camera5000 mAh Lithium Ion Polymer BatteryMediatek Dimensity 700 Processor1 Year Warranty for Handset and 6 Months for Accessories₹12,999₹18,99931% offFree delivery by TodayUpto ₹12,400 Off on ExchangeBank OfferAdd to Comparevivo T2 5G (Velocity Wave, 128 GB)4.438,300 Ratings\\xa0&\\xa02,363 Reviews6 GB RAM | 128 GB ROM16.21 cm (6.38 inch) Full HD+ Display64 MP (OIS) + 2MP | 16MP Front Camera4500 mAh BatterySnapdragon 695 Processor1 Year of Device & 6 Months for Inbox Accessories₹18,999₹23,99920% offFree delivery by TodayUpto ₹18,150 Off on ExchangeNo Cost EMI from ₹6,333/monthAdd to ComparePOCO X5 5G (Jaguar Black, 128 GB)4.111,985 Ratings\\xa0&\\xa0907 Reviews6 GB RAM | 128 GB ROM | Expandable Upto 1 TB16.94 cm (6.67 inch) Full HD+ Display48MP + 8MP + 2MP | 13MP Front Camera5000 mAh BatteryQualcomm Snapdragon 695 Processor1 Year Manufacturer Warranty for Phone and 6 Months Warranty for In the Box Accessories₹14,999₹20,99928% offFree delivery by TodayUpto ₹14,400 Off on ExchangeNo Cost EMI from ₹2,500/monthAdd to ComparePOCO M4 5G (Yellow, 64 GB)4.287,539 Ratings\\xa0&\\xa06,082 Reviews4 GB RAM | 64 GB ROM | Expandable Upto 512 GB16.71 cm (6.58 inch) Full HD+ Display50MP + 2MP | 8MP Front Camera5000 mAh Lithium Ion Polymer BatteryMediatek Dimensity 700 Processor1 Year Warranty for Handset and 6 Months for Accessories₹10,999₹15,99931% offFree delivery by TodayUpto ₹10,450 Off on ExchangeBank OfferAdd to CompareSAMSUNG Galaxy F23 5G (Copper Blush, 128 GB)4.32,01,686 Ratings\\xa0&\\xa015,471 Reviews6 GB RAM | 128 GB ROM | Expandable Upto 1 TB16.76 cm (6.6 inch) Full HD+ Display50MP + 8MP + 2MP | 8MP Front Camera5000 mAh Lithium Ion BatteryQualcomm Snapdragon 750G Processor1 Year Warranty Provided by the Manufacturer from Date of Purchase₹15,499₹23,99935% offFree delivery by TodayUpto ₹14,950 Off on ExchangeNo Cost EMI from ₹2,584/monthAdd to ComparePOCO M4 5G (Cool Blue, 64 GB)4.287,539 Ratings\\xa0&\\xa06,082 Reviews4 GB RAM | 64 GB ROM | Expandable Upto 512 GB16.71 cm (6.58 inch) Full HD+ Display50MP + 2MP | 8MP Front Camera5000 mAh Lithium Ion Polymer BatteryMediatek Dimensity 700 Processor1 Year Warranty for Handset and 6 Months for Accessories₹10,999₹15,99931% offFree delivery by TodayUpto ₹10,450 Off on ExchangeBank OfferAdd to CompareAPPLE iPhone 13 (Blue, 128 GB)4.72,41,274 Ratings\\xa0&\\xa012,126 Reviews128 GB ROM15.49 cm (6.1 inch) Super Retina XDR Display12MP + 12MP | 12MP Front CameraA15 Bionic Chip ProcessorBrand Warranty for 1 Year₹61,999₹69,90011% offFree delivery by TodayDaily SaverUpto ₹38,600 Off on ExchangeAdd to ComparePOCO X5 Pro 5G (Horizon Blue, 256 GB)4.310,705 Ratings\\xa0&\\xa01,091 Reviews8 GB RAM | 256 GB ROM16.94 cm (6.67 inch) Full HD+ Display108MP + 8MP + 2MP | 16MP Front Camera5000 mAh BatteryQualcomm Snapdragon 778G Processor1 Year Manufacturer Warranty for Phone and 6 Months Warranty for in the Box Accessories₹22,999₹28,99920% offFree delivery by TodayUpto ₹20,850 Off on ExchangeBank OfferAdd to ComparePOCO X5 5G (Jaguar Black, 256 GB)4.14,244 Ratings\\xa0&\\xa0327 Reviews8 GB RAM | 256 GB ROM | Expandable Upto 1 TB16.94 cm (6.67 inch) Full HD+ Display48MP + 8MP + 2MP | 13MP Front Camera5000 mAh BatteryQualcomm Snapdragon 695 Processor1 Year Manufacturer Warranty for Phone and 6 Months Warranty for In the Box Accessories₹16,999₹23,99929% offFree delivery by TodayUpto ₹16,400 Off on ExchangeNo Cost EMI from ₹2,834/monthAdd to CompareAPPLE iPhone 13 (Midnight, 128 GB)4.72,41,274 Ratings\\xa0&\\xa012,126 Reviews128 GB ROM15.49 cm (6.1 inch) Super Retina XDR Display12MP + 12MP | 12MP Front CameraA15 Bionic Chip ProcessorBrand Warranty for 1 Year₹61,999₹69,90011% offFree delivery by TodayUpto ₹38,600 Off on ExchangeBank OfferAdd to Comparerealme 10 Pro 5G (Hyperspace, 128 GB)4.324,229 Ratings\\xa0&\\xa01,759 Reviews8 GB RAM | 128 GB ROM | Expandable Upto 1 TB17.07 cm (6.72 inch) Full HD+ Display108MP + 2MP | 16MP Front Camera5000 mAh BatteryQualcomm Snapdragon 695 5G Processor1 Year Manufacturer Warranty for Phone and 6 Months Warranty for In-Box Accessories₹19,999₹22,99913% offFree delivery by TodayDaily SaverUpto ₹19,450 Off on ExchangeAdd to Comparerealme 10 Pro 5G (Hyperspace, 128 GB)4.331,947 Ratings\\xa0&\\xa02,340 Reviews6 GB RAM | 128 GB ROM | Expandable Upto 1 TB17.07 cm (6.72 inch) Full HD+ Display108MP + 2MP | 16MP Front Camera5000 mAh BatteryQualcomm Snapdragon 695 5G Processor1 Year Manufacturer Warranty for Phone and 6 Months Warranty for In-Box Accessories₹18,999₹20,9999% offFree delivery by TodayUpto ₹18,150 Off on ExchangeBank OfferAdd to Comparerealme 10 Pro 5G (Nebula Blue, 128 GB)4.324,229 Ratings\\xa0&\\xa01,759 Reviews8 GB RAM | 128 GB ROM | Expandable Upto 1 TB17.07 cm (6.72 inch) Full HD+ Display108MP + 2MP | 16MP Front Camera5000 mAh BatteryQualcomm Snapdragon 695 5G Processor1 Year Manufacturer Warranty for Phone and 6 Months Warranty for In-Box Accessories₹19,999₹22,99913% offFree delivery by TodayDaily SaverUpto ₹19,450 Off on ExchangeAdd to CompareSAMSUNG Galaxy F14 5G (OMG Black, 128 GB)4.29,286 Ratings\\xa0&\\xa0722 Reviews4 GB RAM | 128 GB ROM | Expandable Upto 1 TB16.76 cm (6.6 inch) Full HD+ Display50MP + 2MP | 13MP Front Camera6000 mAh BatteryExynos 1330, Octa Core Processor1 Year Manufacturer Warranty for Device and 6 Months Manufacturer Warranty for In-Box Accessories₹12,990₹17,49025% offFree delivery by TodayUpto ₹12,400 Off on ExchangeNo Cost EMI from ₹2,165/monthAdd to CompareGoogle Pixel 6a (Chalk, 128 GB)4.353,860 Ratings\\xa0&\\xa06,423 Reviews6 GB RAM | 128 GB ROM15.6 cm (6.14 inch) Full HD+ Display12.2MP + 12MP | 8MP Front Camera4410 mAh BatteryGoogle Tensor Processor1 Year Brand Warranty₹27,999₹43,99936% offAdd to CompareGoogle Pixel 6a (Charcoal, 128 GB)4.353,860 Ratings\\xa0&\\xa06,423 Reviews6 GB RAM | 128 GB ROM15.6 cm (6.14 inch) Full HD+ Display12.2MP + 12MP | 8MP Front Camera4410 mAh BatteryGoogle Tensor Processor1 Year Brand Warranty₹27,999₹43,99936% offAdd to CompareSAMSUNG Galaxy F14 5G (B.A.E. Purple, 128 GB)4.224,463 Ratings\\xa0&\\xa01,909 Reviews6 GB RAM | 128 GB ROM | Expandable Upto 1 TB16.76 cm (6.6 inch) Full HD+ Display50MP + 2MP | 13MP Front Camera6000 mAh BatteryExynos 1330, Octa Core Processor1 Year Manufacturer Warranty for Device and 6 Months Manufacturer Warranty for In-Box Accessories₹13,990₹18,49024% offFree delivery by TodayUpto ₹13,300 Off on ExchangeNo Cost EMI from ₹2,332/monthAdd to CompareAPPLE iPhone 14 (Starlight, 128 GB)4.642,787 Ratings\\xa0&\\xa01,652 Reviews128 GB ROM15.49 cm (6.1 inch) Super Retina XDR Display12MP + 12MP | 12MP Front CameraA15 Bionic Chip, 6 Core Processor Processor1 Year Warranty for Phone and 6 Months Warranty for In-Box Accessories₹69,999₹79,90012% offFree delivery by TodayDaily SaverUpto ₹38,600 Off on ExchangePage 1 of 20712345678910NextDid you find what you were looking for?YesNoReviews for Popular Mobiles1. vivo T2x 5G (Aurora Gold, 1...4.480,632 Ratings&4,517 Reviews₹13,99926% off6 GB RAM | 128 GB ROM16.71 cm (6.58 inch) Full HD+ Display50MP + 2MP | 8MP Front CameraMost Helpful Review4Pretty goodOnly charging is slow other wise all features are good camera 📸 4.5Read full reviewKunal Pratap Singh Certified Buyer2 months agoRecent Review5Terrific purchaseProduct is well...All is well everything...Read full reviewPranjoy  BoroCertified BuyerToday2. vivo T2 5G (Velocity Wave, ...4.438,300 Ratings&2,363 Reviews₹18,99920% off6 GB RAM | 128 GB ROM16.21 cm (6.38 inch) Full HD+ Display64 MP (OIS) + 2MP | 16MP Front CameraMost Helpful Review5WonderfulCamera quality is a superbRead full reviewManoj MahapatraCertified Buyer3 months agoRecent Review5Terrific purchaseGood phone in the price range. I like camera in this phone. Overall worth the price.Read full reviewManoj Kumar BCertified BuyerToday3. POCO X5 5G (Jaguar Black, 1...4.111,985 Ratings&907 Reviews₹14,99928% off6 GB RAM | 128 GB ROM | Expandable Upto 1 TB16.94 cm (6.67 inch) Full HD+ Display48MP + 8MP + 2MP | 13MP Front CameraMost Helpful Review2Could be way betterFirst we\\'ll discuss the pros.1. Decent battery can easily last a day even with 120 hz setting with medium high brightness.2. Flawless touch and display, gr...Read full reviewAyush SinghCertified Buyer3 months agoRecent Review1WorthlessPhone  is goodspeaker volume  badRead full reviewAshish  MehlwalCertified Buyer4 days ago4. realme 10 Pro 5G (Hyperspac...4.331,947 Ratings&2,340 Reviews₹18,9999% off6 GB RAM | 128 GB ROM | Expandable Upto 1 TB17.07 cm (6.72 inch) Full HD+ Display108MP + 2MP | 16MP Front CameraMost Helpful Review5Just wow!I am writing this review after using of 25daysThis is a totally awesome device in this price range 😎Read full reviewFlipkart CustomerCertified Buyer6 months agoRecent Review5Super!Perfect in every thing ❤️❤️❤️❤️Read full reviewFlipkart CustomerCertified BuyerToday5. SAMSUNG Galaxy F14 5G (OMG ...4.29,286 Ratings&722 Reviews₹12,99025% off4 GB RAM | 128 GB ROM | Expandable Upto 1 TB16.76 cm (6.6 inch) Full HD+ Display50MP + 2MP | 13MP Front CameraMost Helpful Review5Classy productvery good quality 👌 thanks flipkart delivery 😘Read full reviewSusmita MondalCertified Buyer1 month agoRecent Review1Useless productWorst product . 5g comes only for 1minute . Only name 5g not real 5gRead full reviewFlipkart CustomerCertified Buyer3 days agoABOUTContact UsAbout UsCareersFlipkart StoriesPressFlipkart WholesaleCorporate InformationHELPPaymentsShippingCancellation & ReturnsFAQReport InfringementCONSUMER POLICYReturn PolicyTerms Of UseSecurityPrivacySitemapGrievance RedressalEPR ComplianceSOCIALFacebookTwitterYouTubeMail Us:Flipkart Internet Private Limited, \\n Buildings Alyssa, Begonia & \\n Clove Embassy Tech Village, \\n Outer Ring Road, Devarabeesanahalli Village, \\n Bengaluru, 560103, \\n Karnataka, India\\nRegistered Office Address:Flipkart Internet Private Limited, \\n Buildings Alyssa, Begonia & \\n Clove Embassy Tech Village, \\n Outer Ring Road, Devarabeesanahalli Village, \\n Bengaluru, 560103, \\n Karnataka, India \\n CIN : U51109KA2012PTC066107 \\n Telephone: 044-45614700\\nBecome a SellerAdvertiseGift CardsHelp Center© 2007-2023 Flipkart.comBack to top   \\n \\n\\n  '"
            ],
            "application/vnd.google.colaboratory.intrinsic+json": {
              "type": "string"
            }
          },
          "metadata": {},
          "execution_count": 58
        }
      ]
    },
    {
      "cell_type": "code",
      "source": [
        "\n",
        "start_word = \"Reviews\"\n",
        "end_word = \"ROM\"\n",
        "start_index = text.find(start_word)\n",
        "end_index = text.find(end_word, start_index + len(start_word))\n",
        "RAM_ROM = ''\n",
        "if start_index != -1 and end_index != -1:\n",
        "    RAM_ROM = text[start_index + len(start_word):end_index].strip()\n",
        "\n",
        "print(RAM_ROM)"
      ],
      "metadata": {
        "colab": {
          "base_uri": "https://localhost:8080/"
        },
        "id": "poi3x4M7h3Sm",
        "outputId": "0ea5c013-a342-43e4-e257-fa630fdce832"
      },
      "execution_count": 59,
      "outputs": [
        {
          "output_type": "stream",
          "name": "stdout",
          "text": [
            "8 GB RAM | 128 GB\n"
          ]
        }
      ]
    },
    {
      "cell_type": "code",
      "source": [
        "\n",
        "start_word = \"GB)\"\n",
        "end_word = \"Ratings\"\n",
        "start_index = text.find(start_word)\n",
        "end_index = text.find(end_word, start_index + len(start_word))\n",
        "Rating_Sold = ''\n",
        "if start_index != -1 and end_index != -1:\n",
        "    Rating_Sold = text[start_index + len(start_word):end_index].strip()\n",
        "\n",
        "print(Rating_Sold)"
      ],
      "metadata": {
        "colab": {
          "base_uri": "https://localhost:8080/"
        },
        "id": "AimZxRkoh6ve",
        "outputId": "20f76fb6-ba52-4296-968b-b2583aef8d6d"
      },
      "execution_count": 60,
      "outputs": [
        {
          "output_type": "stream",
          "name": "stdout",
          "text": [
            "4.319,932\n"
          ]
        }
      ]
    },
    {
      "cell_type": "code",
      "source": [
        "import re\n",
        "\n",
        "start_word = \"Add to Compare\"\n",
        "end_word = \"(\"\n",
        "\n",
        "escaped_start_word = re.escape(start_word)\n",
        "escaped_end_word = re.escape(end_word)\n",
        "\n",
        "pattern = f\"{escaped_start_word}(.*?){escaped_end_word}\"\n",
        "matches = re.finditer(pattern, text)\n",
        "name = []\n",
        "\n",
        "for match in matches:\n",
        "    project = match.group(1).strip()\n",
        "    name.append(project)\n",
        "\n",
        "print(name)"
      ],
      "metadata": {
        "colab": {
          "base_uri": "https://localhost:8080/"
        },
        "id": "OOcjOwtTh-Dm",
        "outputId": "edee1aab-b383-46b4-d175-75a9693bcfd1"
      },
      "execution_count": 61,
      "outputs": [
        {
          "output_type": "stream",
          "name": "stdout",
          "text": [
            "['vivo T2x 5G', 'vivo T2x 5G', 'SAMSUNG Galaxy F23 5G', 'SAMSUNG Galaxy F23 5G', 'POCO M4 5G', 'POCO M4 5G', 'POCO M4 5G', 'vivo T2 5G', 'POCO X5 5G', 'POCO M4 5G', 'SAMSUNG Galaxy F23 5G', 'POCO M4 5G', 'APPLE iPhone 13', 'POCO X5 Pro 5G', 'POCO X5 5G', 'APPLE iPhone 13', 'realme 10 Pro 5G', 'realme 10 Pro 5G', 'realme 10 Pro 5G', 'SAMSUNG Galaxy F14 5G', 'Google Pixel 6a', 'Google Pixel 6a', 'SAMSUNG Galaxy F14 5G', 'APPLE iPhone 14']\n"
          ]
        }
      ]
    },
    {
      "cell_type": "code",
      "source": [
        "\n",
        "name"
      ],
      "metadata": {
        "colab": {
          "base_uri": "https://localhost:8080/"
        },
        "id": "KAhot8RsiBSe",
        "outputId": "52f5651f-23d6-4b36-c0ac-cfa0f05a876a"
      },
      "execution_count": 62,
      "outputs": [
        {
          "output_type": "execute_result",
          "data": {
            "text/plain": [
              "['vivo T2x 5G',\n",
              " 'vivo T2x 5G',\n",
              " 'SAMSUNG Galaxy F23 5G',\n",
              " 'SAMSUNG Galaxy F23 5G',\n",
              " 'POCO M4 5G',\n",
              " 'POCO M4 5G',\n",
              " 'POCO M4 5G',\n",
              " 'vivo T2 5G',\n",
              " 'POCO X5 5G',\n",
              " 'POCO M4 5G',\n",
              " 'SAMSUNG Galaxy F23 5G',\n",
              " 'POCO M4 5G',\n",
              " 'APPLE iPhone 13',\n",
              " 'POCO X5 Pro 5G',\n",
              " 'POCO X5 5G',\n",
              " 'APPLE iPhone 13',\n",
              " 'realme 10 Pro 5G',\n",
              " 'realme 10 Pro 5G',\n",
              " 'realme 10 Pro 5G',\n",
              " 'SAMSUNG Galaxy F14 5G',\n",
              " 'Google Pixel 6a',\n",
              " 'Google Pixel 6a',\n",
              " 'SAMSUNG Galaxy F14 5G',\n",
              " 'APPLE iPhone 14']"
            ]
          },
          "metadata": {},
          "execution_count": 62
        }
      ]
    },
    {
      "cell_type": "code",
      "source": [
        "\n",
        "import re\n",
        "\n",
        "start_word = \"Reviews\"\n",
        "end_word = \"ROM\"\n",
        "\n",
        "escaped_start_word = re.escape(start_word)\n",
        "escaped_end_word = re.escape(end_word)\n",
        "\n",
        "pattern = f\"{escaped_start_word}(.*?){escaped_end_word}\"\n",
        "matches = re.finditer(pattern, text)\n",
        "RAM_ROM = []\n",
        "\n",
        "for match in matches:\n",
        "    project = match.group(1).strip()\n",
        "    RAM_ROM.append(project)\n",
        "\n",
        "print(RAM_ROM)"
      ],
      "metadata": {
        "colab": {
          "base_uri": "https://localhost:8080/"
        },
        "id": "RU7itysmiE5e",
        "outputId": "c5a25c3d-007e-4236-a248-63381ca001dd"
      },
      "execution_count": 63,
      "outputs": [
        {
          "output_type": "stream",
          "name": "stdout",
          "text": [
            "['8 GB RAM | 128 GB', '6 GB RAM | 128 GB', '6 GB RAM | 128 GB', '6 GB RAM | 128 GB', '4 GB RAM | 64 GB', '6 GB RAM | 128 GB', '6 GB RAM | 128 GB', '6 GB RAM | 128 GB', '6 GB RAM | 128 GB', '4 GB RAM | 64 GB', '6 GB RAM | 128 GB', '4 GB RAM | 64 GB', '128 GB', '8 GB RAM | 256 GB', '8 GB RAM | 256 GB', '128 GB', '8 GB RAM | 128 GB', '6 GB RAM | 128 GB', '8 GB RAM | 128 GB', '4 GB RAM | 128 GB', '6 GB RAM | 128 GB', '6 GB RAM | 128 GB', '6 GB RAM | 128 GB', '128 GB', 'for Popular Mobiles1. vivo T2x 5G (Aurora Gold, 1...4.480,632 Ratings&4,517 Reviews₹13,99926% off6 GB RAM | 128 GB', '₹18,99920% off6 GB RAM | 128 GB', '₹14,99928% off6 GB RAM | 128 GB', '₹18,9999% off6 GB RAM | 128 GB', '₹12,99025% off4 GB RAM | 128 GB']\n"
          ]
        }
      ]
    },
    {
      "cell_type": "code",
      "source": [
        "\n",
        "RAM_ROM"
      ],
      "metadata": {
        "colab": {
          "base_uri": "https://localhost:8080/"
        },
        "id": "Xy8GsAMhiIdW",
        "outputId": "cef3c10a-d6a9-4eb4-d403-6d07644da249"
      },
      "execution_count": 36,
      "outputs": [
        {
          "output_type": "execute_result",
          "data": {
            "text/plain": [
              "['4 GB RAM | 64 GB',\n",
              " '4 GB RAM | 64 GB',\n",
              " '4 GB RAM | 64 GB',\n",
              " '4 GB RAM | 64 GB',\n",
              " '2 GB RAM | 64 GB',\n",
              " '2 GB RAM | 32 GB',\n",
              " '2 GB RAM | 32 GB',\n",
              " '4 GB RAM | 64 GB',\n",
              " '4 GB RAM | 64 GB',\n",
              " '4 GB RAM | 64 GB',\n",
              " '4 GB RAM | 64 GB',\n",
              " '4 GB RAM | 64 GB',\n",
              " '4 GB RAM | 64 GB',\n",
              " '4 GB RAM | 64 GB',\n",
              " '4 GB RAM | 64 GB',\n",
              " '8 GB RAM | 128 GB',\n",
              " '8 GB RAM | 128 GB',\n",
              " '4 GB RAM | 64 GB',\n",
              " '4 GB RAM | 64 GB',\n",
              " '8 GB RAM | 128 GB',\n",
              " '8 GB RAM | 128 GB',\n",
              " '8 GB RAM | 128 GB',\n",
              " '4 GB RAM | 64 GB',\n",
              " 'for Popular Smartphones Mobiles1. POCO C50 (Country Green, 32...4.243,366 Ratings&2,039 Reviews₹5,49938% off2 GB RAM | 32 GB',\n",
              " '₹7,29933% off4 GB RAM | 64 GB',\n",
              " '₹6,99939% off4 GB RAM | 64 GB',\n",
              " '₹8,99925% off8 GB RAM | 128 GB',\n",
              " '₹6,49935% off4 GB RAM | 64 GB']"
            ]
          },
          "metadata": {},
          "execution_count": 36
        }
      ]
    },
    {
      "cell_type": "code",
      "source": [
        "\n",
        "new_RAM_ROM = RAM_ROM[:-5]  # Remove the last 5 elements\n",
        "\n",
        "print(new_RAM_ROM)"
      ],
      "metadata": {
        "colab": {
          "base_uri": "https://localhost:8080/"
        },
        "id": "r3YRTgukiLAG",
        "outputId": "2f707a8c-99ff-4ca6-dbe0-6284955f4db0"
      },
      "execution_count": 64,
      "outputs": [
        {
          "output_type": "stream",
          "name": "stdout",
          "text": [
            "['8 GB RAM | 128 GB', '6 GB RAM | 128 GB', '6 GB RAM | 128 GB', '6 GB RAM | 128 GB', '4 GB RAM | 64 GB', '6 GB RAM | 128 GB', '6 GB RAM | 128 GB', '6 GB RAM | 128 GB', '6 GB RAM | 128 GB', '4 GB RAM | 64 GB', '6 GB RAM | 128 GB', '4 GB RAM | 64 GB', '128 GB', '8 GB RAM | 256 GB', '8 GB RAM | 256 GB', '128 GB', '8 GB RAM | 128 GB', '6 GB RAM | 128 GB', '8 GB RAM | 128 GB', '4 GB RAM | 128 GB', '6 GB RAM | 128 GB', '6 GB RAM | 128 GB', '6 GB RAM | 128 GB', '128 GB']\n"
          ]
        }
      ]
    },
    {
      "cell_type": "code",
      "source": [
        "\n",
        "new_RAM_ROM"
      ],
      "metadata": {
        "colab": {
          "base_uri": "https://localhost:8080/"
        },
        "id": "typLeAs5i16d",
        "outputId": "42957aea-c4c2-49c2-ce94-cac9cb8a1267"
      },
      "execution_count": 65,
      "outputs": [
        {
          "output_type": "execute_result",
          "data": {
            "text/plain": [
              "['8 GB RAM | 128 GB',\n",
              " '6 GB RAM | 128 GB',\n",
              " '6 GB RAM | 128 GB',\n",
              " '6 GB RAM | 128 GB',\n",
              " '4 GB RAM | 64 GB',\n",
              " '6 GB RAM | 128 GB',\n",
              " '6 GB RAM | 128 GB',\n",
              " '6 GB RAM | 128 GB',\n",
              " '6 GB RAM | 128 GB',\n",
              " '4 GB RAM | 64 GB',\n",
              " '6 GB RAM | 128 GB',\n",
              " '4 GB RAM | 64 GB',\n",
              " '128 GB',\n",
              " '8 GB RAM | 256 GB',\n",
              " '8 GB RAM | 256 GB',\n",
              " '128 GB',\n",
              " '8 GB RAM | 128 GB',\n",
              " '6 GB RAM | 128 GB',\n",
              " '8 GB RAM | 128 GB',\n",
              " '4 GB RAM | 128 GB',\n",
              " '6 GB RAM | 128 GB',\n",
              " '6 GB RAM | 128 GB',\n",
              " '6 GB RAM | 128 GB',\n",
              " '128 GB']"
            ]
          },
          "metadata": {},
          "execution_count": 65
        }
      ]
    },
    {
      "cell_type": "code",
      "source": [
        "\n",
        "modified_RAM_ROM = [element if '|' in element else '0 GB RAM | ' + element for element in new_RAM_ROM]\n",
        "\n",
        "print(modified_RAM_ROM)\n",
        ""
      ],
      "metadata": {
        "colab": {
          "base_uri": "https://localhost:8080/"
        },
        "id": "o7ajzt2Vi6XV",
        "outputId": "66e5198e-0f0f-4dc7-e0ba-4ec261630b4d"
      },
      "execution_count": 66,
      "outputs": [
        {
          "output_type": "stream",
          "name": "stdout",
          "text": [
            "['8 GB RAM | 128 GB', '6 GB RAM | 128 GB', '6 GB RAM | 128 GB', '6 GB RAM | 128 GB', '4 GB RAM | 64 GB', '6 GB RAM | 128 GB', '6 GB RAM | 128 GB', '6 GB RAM | 128 GB', '6 GB RAM | 128 GB', '4 GB RAM | 64 GB', '6 GB RAM | 128 GB', '4 GB RAM | 64 GB', '0 GB RAM | 128 GB', '8 GB RAM | 256 GB', '8 GB RAM | 256 GB', '0 GB RAM | 128 GB', '8 GB RAM | 128 GB', '6 GB RAM | 128 GB', '8 GB RAM | 128 GB', '4 GB RAM | 128 GB', '6 GB RAM | 128 GB', '6 GB RAM | 128 GB', '6 GB RAM | 128 GB', '0 GB RAM | 128 GB']\n"
          ]
        }
      ]
    },
    {
      "cell_type": "code",
      "source": [
        "\n",
        "modified_RAM_ROM"
      ],
      "metadata": {
        "colab": {
          "base_uri": "https://localhost:8080/"
        },
        "id": "XBD4QHn1i9Cl",
        "outputId": "490cc5ac-b0b9-4768-9e4e-fb762acbe476"
      },
      "execution_count": 67,
      "outputs": [
        {
          "output_type": "execute_result",
          "data": {
            "text/plain": [
              "['8 GB RAM | 128 GB',\n",
              " '6 GB RAM | 128 GB',\n",
              " '6 GB RAM | 128 GB',\n",
              " '6 GB RAM | 128 GB',\n",
              " '4 GB RAM | 64 GB',\n",
              " '6 GB RAM | 128 GB',\n",
              " '6 GB RAM | 128 GB',\n",
              " '6 GB RAM | 128 GB',\n",
              " '6 GB RAM | 128 GB',\n",
              " '4 GB RAM | 64 GB',\n",
              " '6 GB RAM | 128 GB',\n",
              " '4 GB RAM | 64 GB',\n",
              " '0 GB RAM | 128 GB',\n",
              " '8 GB RAM | 256 GB',\n",
              " '8 GB RAM | 256 GB',\n",
              " '0 GB RAM | 128 GB',\n",
              " '8 GB RAM | 128 GB',\n",
              " '6 GB RAM | 128 GB',\n",
              " '8 GB RAM | 128 GB',\n",
              " '4 GB RAM | 128 GB',\n",
              " '6 GB RAM | 128 GB',\n",
              " '6 GB RAM | 128 GB',\n",
              " '6 GB RAM | 128 GB',\n",
              " '0 GB RAM | 128 GB']"
            ]
          },
          "metadata": {},
          "execution_count": 67
        }
      ]
    },
    {
      "cell_type": "code",
      "source": [
        "\n",
        "RAM = [element.split(\" | \")[0] for element in modified_RAM_ROM]\n",
        "ROM = [element.split(\" | \")[1] for element in modified_RAM_ROM]\n",
        "\n",
        "print(RAM)\n",
        "print(ROM)\n",
        ""
      ],
      "metadata": {
        "colab": {
          "base_uri": "https://localhost:8080/"
        },
        "id": "2WnzcLxoi_Zl",
        "outputId": "c8aca751-80de-4276-d37b-f603d60fcc0f"
      },
      "execution_count": 68,
      "outputs": [
        {
          "output_type": "stream",
          "name": "stdout",
          "text": [
            "['8 GB RAM', '6 GB RAM', '6 GB RAM', '6 GB RAM', '4 GB RAM', '6 GB RAM', '6 GB RAM', '6 GB RAM', '6 GB RAM', '4 GB RAM', '6 GB RAM', '4 GB RAM', '0 GB RAM', '8 GB RAM', '8 GB RAM', '0 GB RAM', '8 GB RAM', '6 GB RAM', '8 GB RAM', '4 GB RAM', '6 GB RAM', '6 GB RAM', '6 GB RAM', '0 GB RAM']\n",
            "['128 GB', '128 GB', '128 GB', '128 GB', '64 GB', '128 GB', '128 GB', '128 GB', '128 GB', '64 GB', '128 GB', '64 GB', '128 GB', '256 GB', '256 GB', '128 GB', '128 GB', '128 GB', '128 GB', '128 GB', '128 GB', '128 GB', '128 GB', '128 GB']\n"
          ]
        }
      ]
    },
    {
      "cell_type": "code",
      "source": [
        "RAM_digit = [re.sub(r'\\D', '', element) for element in RAM]\n",
        "\n",
        "print(RAM_digit)"
      ],
      "metadata": {
        "colab": {
          "base_uri": "https://localhost:8080/"
        },
        "id": "SPSdxa88jCB9",
        "outputId": "98adb1ca-1f09-48e6-f5b1-e26e02d338da"
      },
      "execution_count": 69,
      "outputs": [
        {
          "output_type": "stream",
          "name": "stdout",
          "text": [
            "['8', '6', '6', '6', '4', '6', '6', '6', '6', '4', '6', '4', '0', '8', '8', '0', '8', '6', '8', '4', '6', '6', '6', '0']\n"
          ]
        }
      ]
    },
    {
      "cell_type": "code",
      "source": [
        "ROM_digit = [re.sub(r'\\D', '', element) for element in ROM]\n",
        "\n",
        "print(ROM_digit)"
      ],
      "metadata": {
        "colab": {
          "base_uri": "https://localhost:8080/"
        },
        "id": "SKGaCe6CjF2d",
        "outputId": "581c37ed-3354-4c0a-d270-a94058991d5d"
      },
      "execution_count": 70,
      "outputs": [
        {
          "output_type": "stream",
          "name": "stdout",
          "text": [
            "['128', '128', '128', '128', '64', '128', '128', '128', '128', '64', '128', '64', '128', '256', '256', '128', '128', '128', '128', '128', '128', '128', '128', '128']\n"
          ]
        }
      ]
    },
    {
      "cell_type": "code",
      "source": [
        "\n",
        "import re\n",
        "\n",
        "start_word = \"GB)\"\n",
        "end_word = \"Rating\"\n",
        "\n",
        "escaped_start_word = re.escape(start_word)\n",
        "escaped_end_word = re.escape(end_word)\n",
        "\n",
        "pattern = f\"{escaped_start_word}(.*?){escaped_end_word}\"\n",
        "matches = re.finditer(pattern, text)\n",
        "Rating_and_Sold = []\n",
        "\n",
        "for match in matches:\n",
        "    project = match.group(1).strip()\n",
        "    Rating_and_Sold.append(project)\n",
        "\n",
        "print(Rating_and_Sold)\n"
      ],
      "metadata": {
        "colab": {
          "base_uri": "https://localhost:8080/"
        },
        "id": "uIFo7rovjI1d",
        "outputId": "d7cb0b3a-f821-4775-a85e-b0d0d0a05994"
      },
      "execution_count": 71,
      "outputs": [
        {
          "output_type": "stream",
          "name": "stdout",
          "text": [
            "['4.319,932', '4.480,632', '4.32,01,686', '4.32,01,686', '4.287,539', '4.244,319', '4.244,319', '4.438,300', '4.111,985', '4.287,539', '4.32,01,686', '4.287,539', '4.72,41,274', '4.310,705', '4.14,244', '4.72,41,274', '4.324,229', '4.331,947', '4.324,229', '4.29,286', '4.353,860', '4.353,860', '4.224,463', '4.642,787']\n"
          ]
        }
      ]
    },
    {
      "cell_type": "code",
      "source": [
        "\n",
        "Rating_and_Sold"
      ],
      "metadata": {
        "colab": {
          "base_uri": "https://localhost:8080/"
        },
        "id": "kPPGvd7ijLmV",
        "outputId": "401def3d-c0aa-4c57-920d-09ac7f4da8a7"
      },
      "execution_count": 72,
      "outputs": [
        {
          "output_type": "execute_result",
          "data": {
            "text/plain": [
              "['4.319,932',\n",
              " '4.480,632',\n",
              " '4.32,01,686',\n",
              " '4.32,01,686',\n",
              " '4.287,539',\n",
              " '4.244,319',\n",
              " '4.244,319',\n",
              " '4.438,300',\n",
              " '4.111,985',\n",
              " '4.287,539',\n",
              " '4.32,01,686',\n",
              " '4.287,539',\n",
              " '4.72,41,274',\n",
              " '4.310,705',\n",
              " '4.14,244',\n",
              " '4.72,41,274',\n",
              " '4.324,229',\n",
              " '4.331,947',\n",
              " '4.324,229',\n",
              " '4.29,286',\n",
              " '4.353,860',\n",
              " '4.353,860',\n",
              " '4.224,463',\n",
              " '4.642,787']"
            ]
          },
          "metadata": {},
          "execution_count": 72
        }
      ]
    },
    {
      "cell_type": "code",
      "source": [
        "# Splitting into two sets\n",
        "Rating = [element[:3] for element in Rating_and_Sold]\n",
        "Sold = [element[3:] for element in Rating_and_Sold]\n",
        "\n",
        "print(Rating)\n",
        "print(Sold)"
      ],
      "metadata": {
        "colab": {
          "base_uri": "https://localhost:8080/"
        },
        "id": "tE1WTlKwjOUN",
        "outputId": "f629cf2d-597d-4d00-98fd-601d4c1ee17c"
      },
      "execution_count": 73,
      "outputs": [
        {
          "output_type": "stream",
          "name": "stdout",
          "text": [
            "['4.3', '4.4', '4.3', '4.3', '4.2', '4.2', '4.2', '4.4', '4.1', '4.2', '4.3', '4.2', '4.7', '4.3', '4.1', '4.7', '4.3', '4.3', '4.3', '4.2', '4.3', '4.3', '4.2', '4.6']\n",
            "['19,932', '80,632', '2,01,686', '2,01,686', '87,539', '44,319', '44,319', '38,300', '11,985', '87,539', '2,01,686', '87,539', '2,41,274', '10,705', '4,244', '2,41,274', '24,229', '31,947', '24,229', '9,286', '53,860', '53,860', '24,463', '42,787']\n"
          ]
        }
      ]
    },
    {
      "cell_type": "code",
      "source": [
        "\n",
        "Rating"
      ],
      "metadata": {
        "colab": {
          "base_uri": "https://localhost:8080/"
        },
        "id": "z_7hnQFzjRC1",
        "outputId": "2f37bd1f-eb9b-4d90-9451-055335857ff1"
      },
      "execution_count": 74,
      "outputs": [
        {
          "output_type": "execute_result",
          "data": {
            "text/plain": [
              "['4.3',\n",
              " '4.4',\n",
              " '4.3',\n",
              " '4.3',\n",
              " '4.2',\n",
              " '4.2',\n",
              " '4.2',\n",
              " '4.4',\n",
              " '4.1',\n",
              " '4.2',\n",
              " '4.3',\n",
              " '4.2',\n",
              " '4.7',\n",
              " '4.3',\n",
              " '4.1',\n",
              " '4.7',\n",
              " '4.3',\n",
              " '4.3',\n",
              " '4.3',\n",
              " '4.2',\n",
              " '4.3',\n",
              " '4.3',\n",
              " '4.2',\n",
              " '4.6']"
            ]
          },
          "metadata": {},
          "execution_count": 74
        }
      ]
    },
    {
      "cell_type": "code",
      "source": [
        "\n",
        "Sold"
      ],
      "metadata": {
        "colab": {
          "base_uri": "https://localhost:8080/"
        },
        "id": "8fkjxmLtjTe2",
        "outputId": "864d05c2-fc3e-4c1e-ea25-7d5d32bd8de6"
      },
      "execution_count": 75,
      "outputs": [
        {
          "output_type": "execute_result",
          "data": {
            "text/plain": [
              "['19,932',\n",
              " '80,632',\n",
              " '2,01,686',\n",
              " '2,01,686',\n",
              " '87,539',\n",
              " '44,319',\n",
              " '44,319',\n",
              " '38,300',\n",
              " '11,985',\n",
              " '87,539',\n",
              " '2,01,686',\n",
              " '87,539',\n",
              " '2,41,274',\n",
              " '10,705',\n",
              " '4,244',\n",
              " '2,41,274',\n",
              " '24,229',\n",
              " '31,947',\n",
              " '24,229',\n",
              " '9,286',\n",
              " '53,860',\n",
              " '53,860',\n",
              " '24,463',\n",
              " '42,787']"
            ]
          },
          "metadata": {},
          "execution_count": 75
        }
      ]
    },
    {
      "cell_type": "code",
      "source": [
        "\n",
        "# Remove commas from the elements\n",
        "Sold_Data = [element.replace(',', '') for element in Sold]\n",
        "\n",
        "print(Sold_Data)"
      ],
      "metadata": {
        "colab": {
          "base_uri": "https://localhost:8080/"
        },
        "id": "OtMSC9_gjYgu",
        "outputId": "57ec0c1b-4fe7-4d6c-f4d3-dd81887c2c8d"
      },
      "execution_count": 76,
      "outputs": [
        {
          "output_type": "stream",
          "name": "stdout",
          "text": [
            "['19932', '80632', '201686', '201686', '87539', '44319', '44319', '38300', '11985', '87539', '201686', '87539', '241274', '10705', '4244', '241274', '24229', '31947', '24229', '9286', '53860', '53860', '24463', '42787']\n"
          ]
        }
      ]
    },
    {
      "cell_type": "code",
      "source": [
        "\n",
        "Sold_Data"
      ],
      "metadata": {
        "colab": {
          "base_uri": "https://localhost:8080/"
        },
        "id": "9IFxY6sQjbaF",
        "outputId": "4d2f2a76-4f76-4e9b-e96f-8d53767e45d4"
      },
      "execution_count": 77,
      "outputs": [
        {
          "output_type": "execute_result",
          "data": {
            "text/plain": [
              "['19932',\n",
              " '80632',\n",
              " '201686',\n",
              " '201686',\n",
              " '87539',\n",
              " '44319',\n",
              " '44319',\n",
              " '38300',\n",
              " '11985',\n",
              " '87539',\n",
              " '201686',\n",
              " '87539',\n",
              " '241274',\n",
              " '10705',\n",
              " '4244',\n",
              " '241274',\n",
              " '24229',\n",
              " '31947',\n",
              " '24229',\n",
              " '9286',\n",
              " '53860',\n",
              " '53860',\n",
              " '24463',\n",
              " '42787']"
            ]
          },
          "metadata": {},
          "execution_count": 77
        }
      ]
    },
    {
      "cell_type": "code",
      "source": [
        "\n",
        "import csv\n",
        ""
      ],
      "metadata": {
        "id": "BOP0h75RjeyU"
      },
      "execution_count": 78,
      "outputs": []
    },
    {
      "cell_type": "code",
      "source": [
        "data = zip(name ,RAM_digit, ROM_digit, Sold_Data, Rating)\n",
        "\n",
        "filename = 'data.csv'\n",
        "\n",
        "with open(filename, 'w', newline='') as csvfile:\n",
        "    writer = csv.writer(csvfile)\n",
        "    writer.writerow(['Name', 'RAM', 'ROM', 'Sold Quantity', 'Rating'])  # Write header row\n",
        "    writer.writerows(data)\n",
        "\n",
        "print(f\"Data has been written to {filename}.\")"
      ],
      "metadata": {
        "colab": {
          "base_uri": "https://localhost:8080/"
        },
        "id": "n8sZZ1vWji-k",
        "outputId": "e640400c-39b0-4dc6-d9bf-57525f81d6cf"
      },
      "execution_count": 79,
      "outputs": [
        {
          "output_type": "stream",
          "name": "stdout",
          "text": [
            "Data has been written to data.csv.\n"
          ]
        }
      ]
    }
  ]
}